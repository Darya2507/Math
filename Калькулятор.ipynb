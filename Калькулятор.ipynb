{
 "cells": [
  {
   "cell_type": "code",
   "execution_count": 3,
   "metadata": {},
   "outputs": [
    {
     "name": "stdout",
     "output_type": "stream",
     "text": [
      "Результат: 2.0\n"
     ]
    }
   ],
   "source": [
    "#Калькулятор :)\n",
    "\n",
    "what = input (\"Что делаем? (+, -, /, *): \")\n",
    "\n",
    "a = float( input(\"Введи первое число: \") )\n",
    "b = float( input(\"Введи второе число: \") )\n",
    "\n",
    "if what == \"+\":\n",
    "    c = a+b\n",
    "    print(\"Результат: \" + str(c))\n",
    "\n",
    "elif what == \"-\":\n",
    "    c=a-b\n",
    "    print(\"Результат: \" + str(c))\n",
    "\n",
    "if what == \"/\":\n",
    "    c=a/b\n",
    "    print(\"Результат: \" + str(c))    \n",
    "\n",
    "elif what == \"*\":\n",
    "    c=a*b\n",
    "    print(\"Результат: \" + str(c))\n",
    "\n",
    "\n",
    "else:\n",
    "    print(\"Выбрана неверная операция!\")\n",
    "\n",
    "\n",
    "\n",
    "\n",
    "\n",
    "\n",
    "\n"
   ]
  }
 ],
 "metadata": {
  "kernelspec": {
   "display_name": "Python 3.10.9 64-bit (microsoft store)",
   "language": "python",
   "name": "python3"
  },
  "language_info": {
   "codemirror_mode": {
    "name": "ipython",
    "version": 3
   },
   "file_extension": ".py",
   "mimetype": "text/x-python",
   "name": "python",
   "nbconvert_exporter": "python",
   "pygments_lexer": "ipython3",
   "version": "3.10.9"
  },
  "orig_nbformat": 4,
  "vscode": {
   "interpreter": {
    "hash": "e7952874a11601d7f647b963ba1091bec0db2a5a0c03e3abbb2eb6e2a2b11690"
   }
  }
 },
 "nbformat": 4,
 "nbformat_minor": 2
}
